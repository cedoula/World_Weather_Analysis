{
 "cells": [
  {
   "cell_type": "code",
   "execution_count": 5,
   "metadata": {},
   "outputs": [],
   "source": [
    "# Import the dependencies.\n",
    "import pandas as pd\n",
    "import gmaps\n",
    "import requests\n",
    "# Import the API key.\n",
    "from config import g_key\n",
    "import os"
   ]
  },
  {
   "cell_type": "code",
   "execution_count": 9,
   "metadata": {},
   "outputs": [
    {
     "data": {
      "text/html": [
       "<div>\n",
       "<style scoped>\n",
       "    .dataframe tbody tr th:only-of-type {\n",
       "        vertical-align: middle;\n",
       "    }\n",
       "\n",
       "    .dataframe tbody tr th {\n",
       "        vertical-align: top;\n",
       "    }\n",
       "\n",
       "    .dataframe thead th {\n",
       "        text-align: right;\n",
       "    }\n",
       "</style>\n",
       "<table border=\"1\" class=\"dataframe\">\n",
       "  <thead>\n",
       "    <tr style=\"text-align: right;\">\n",
       "      <th></th>\n",
       "      <th>City_ID</th>\n",
       "      <th>City</th>\n",
       "      <th>Country</th>\n",
       "      <th>Date</th>\n",
       "      <th>Lat</th>\n",
       "      <th>Lng</th>\n",
       "      <th>Max Temp</th>\n",
       "      <th>Humidity</th>\n",
       "      <th>Cloudiness</th>\n",
       "      <th>Wind Speed</th>\n",
       "    </tr>\n",
       "  </thead>\n",
       "  <tbody>\n",
       "    <tr>\n",
       "      <th>0</th>\n",
       "      <td>0</td>\n",
       "      <td>Georgetown</td>\n",
       "      <td>MY</td>\n",
       "      <td>2020-08-30 20:28:51</td>\n",
       "      <td>5.41</td>\n",
       "      <td>100.34</td>\n",
       "      <td>80.60</td>\n",
       "      <td>94</td>\n",
       "      <td>40</td>\n",
       "      <td>2.24</td>\n",
       "    </tr>\n",
       "    <tr>\n",
       "      <th>1</th>\n",
       "      <td>1</td>\n",
       "      <td>Faanui</td>\n",
       "      <td>PF</td>\n",
       "      <td>2020-08-30 20:30:08</td>\n",
       "      <td>-16.48</td>\n",
       "      <td>-151.75</td>\n",
       "      <td>76.86</td>\n",
       "      <td>76</td>\n",
       "      <td>18</td>\n",
       "      <td>22.46</td>\n",
       "    </tr>\n",
       "    <tr>\n",
       "      <th>2</th>\n",
       "      <td>2</td>\n",
       "      <td>Albany</td>\n",
       "      <td>US</td>\n",
       "      <td>2020-08-30 20:26:15</td>\n",
       "      <td>42.60</td>\n",
       "      <td>-73.97</td>\n",
       "      <td>72.00</td>\n",
       "      <td>44</td>\n",
       "      <td>0</td>\n",
       "      <td>13.24</td>\n",
       "    </tr>\n",
       "    <tr>\n",
       "      <th>3</th>\n",
       "      <td>3</td>\n",
       "      <td>Canas</td>\n",
       "      <td>CR</td>\n",
       "      <td>2020-08-30 20:30:08</td>\n",
       "      <td>10.43</td>\n",
       "      <td>-85.09</td>\n",
       "      <td>86.00</td>\n",
       "      <td>79</td>\n",
       "      <td>40</td>\n",
       "      <td>9.17</td>\n",
       "    </tr>\n",
       "    <tr>\n",
       "      <th>4</th>\n",
       "      <td>4</td>\n",
       "      <td>Geraldton</td>\n",
       "      <td>AU</td>\n",
       "      <td>2020-08-30 20:27:42</td>\n",
       "      <td>-28.77</td>\n",
       "      <td>114.60</td>\n",
       "      <td>44.60</td>\n",
       "      <td>93</td>\n",
       "      <td>0</td>\n",
       "      <td>10.29</td>\n",
       "    </tr>\n",
       "  </tbody>\n",
       "</table>\n",
       "</div>"
      ],
      "text/plain": [
       "   City_ID        City Country                 Date    Lat     Lng  Max Temp  \\\n",
       "0        0  Georgetown      MY  2020-08-30 20:28:51   5.41  100.34     80.60   \n",
       "1        1      Faanui      PF  2020-08-30 20:30:08 -16.48 -151.75     76.86   \n",
       "2        2      Albany      US  2020-08-30 20:26:15  42.60  -73.97     72.00   \n",
       "3        3       Canas      CR  2020-08-30 20:30:08  10.43  -85.09     86.00   \n",
       "4        4   Geraldton      AU  2020-08-30 20:27:42 -28.77  114.60     44.60   \n",
       "\n",
       "   Humidity  Cloudiness  Wind Speed  \n",
       "0        94          40        2.24  \n",
       "1        76          18       22.46  \n",
       "2        44           0       13.24  \n",
       "3        79          40        9.17  \n",
       "4        93           0       10.29  "
      ]
     },
     "execution_count": 9,
     "metadata": {},
     "output_type": "execute_result"
    }
   ],
   "source": [
    "# Store the CSV you saved created in part one into a DataFrame.\n",
    "city_data_df = pd.read_csv(os.path.join(\"weather_data\", \"cities.csv\"))\n",
    "city_data_df.head()"
   ]
  },
  {
   "cell_type": "code",
   "execution_count": 10,
   "metadata": {},
   "outputs": [
    {
     "data": {
      "text/plain": [
       "City_ID         int64\n",
       "City           object\n",
       "Country        object\n",
       "Date           object\n",
       "Lat           float64\n",
       "Lng           float64\n",
       "Max Temp      float64\n",
       "Humidity        int64\n",
       "Cloudiness      int64\n",
       "Wind Speed    float64\n",
       "dtype: object"
      ]
     },
     "execution_count": 10,
     "metadata": {},
     "output_type": "execute_result"
    }
   ],
   "source": [
    "# Check types\n",
    "city_data_df.dtypes"
   ]
  },
  {
   "cell_type": "code",
   "execution_count": 11,
   "metadata": {},
   "outputs": [],
   "source": [
    "# Configure gmaps to use your Google API key.\n",
    "gmaps.configure(api_key=g_key)"
   ]
  },
  {
   "cell_type": "code",
   "execution_count": 30,
   "metadata": {},
   "outputs": [],
   "source": [
    "# Get the maximum temperature.\n",
    "max_temp = city_data_df[\"Max Temp\"]\n",
    "temps = [max(temp, 0) for temp in max_temp]"
   ]
  },
  {
   "cell_type": "code",
   "execution_count": 29,
   "metadata": {},
   "outputs": [
    {
     "data": {
      "application/vnd.jupyter.widget-view+json": {
       "model_id": "7db6aca36261417896e727ddd5854f6c",
       "version_major": 2,
       "version_minor": 0
      },
      "text/plain": [
       "Figure(layout=FigureLayout(height='420px'))"
      ]
     },
     "metadata": {},
     "output_type": "display_data"
    }
   ],
   "source": [
    "# Heatmap of temperature\n",
    "locations = city_data_df[[\"Lat\", \"Lng\"]]\n",
    "# Get the maximum temperature.\n",
    "max_temp = city_data_df[\"Max Temp\"]\n",
    "# Assign the figure variable.\n",
    "fig = gmaps.figure(center=(30.0, 31.0), zoom_level=1.5)\n",
    "# Assign the heatmap variable.\n",
    "heat_layer = gmaps.heatmap_layer(locations, weights=[max(temp, 0) for temp in max_temp], dissipating=False, \n",
    "                                max_intensity=300, point_radius=2)\n",
    "# Add the heatmap layer.\n",
    "fig.add_layer(heat_layer)\n",
    "# Call the figure to plot the data.\n",
    "fig"
   ]
  },
  {
   "cell_type": "code",
   "execution_count": 38,
   "metadata": {},
   "outputs": [
    {
     "data": {
      "application/vnd.jupyter.widget-view+json": {
       "model_id": "db22482a113244439b8e1a3a6d1c37d9",
       "version_major": 2,
       "version_minor": 0
      },
      "text/plain": [
       "Figure(layout=FigureLayout(height='420px'))"
      ]
     },
     "metadata": {},
     "output_type": "display_data"
    }
   ],
   "source": [
    "# Heatmap of humidity\n",
    "locations = city_data_df[[\"Lat\", \"Lng\"]]\n",
    "# Get the humidity.\n",
    "humidity = city_data_df[\"Humidity\"]\n",
    "# Assign the figure variable.\n",
    "fig = gmaps.figure(center=(30.0, 31.0), zoom_level=1.5)\n",
    "# Assign the heatmap variable.\n",
    "heat_layer = gmaps.heatmap_layer(locations, weights=humidity, dissipating=False, \n",
    "                                max_intensity=100, point_radius=2)\n",
    "# Add the heatmap layer.\n",
    "fig.add_layer(heat_layer)\n",
    "# Call the figure to plot the data.\n",
    "fig"
   ]
  },
  {
   "cell_type": "code",
   "execution_count": 39,
   "metadata": {},
   "outputs": [
    {
     "data": {
      "application/vnd.jupyter.widget-view+json": {
       "model_id": "48c94e3f0e6541dfb2225de6dc437a9f",
       "version_major": 2,
       "version_minor": 0
      },
      "text/plain": [
       "Figure(layout=FigureLayout(height='420px'))"
      ]
     },
     "metadata": {},
     "output_type": "display_data"
    }
   ],
   "source": [
    "# Heatmap of cloudiness\n",
    "locations = city_data_df[[\"Lat\", \"Lng\"]]\n",
    "# Get the humidity.\n",
    "cloudiness = city_data_df[\"Cloudiness\"]\n",
    "# Assign the figure variable.\n",
    "fig = gmaps.figure(center=(30.0, 31.0), zoom_level=1.5)\n",
    "# Assign the heatmap variable.\n",
    "heat_layer = gmaps.heatmap_layer(locations, weights=cloudiness, dissipating=False, \n",
    "                                max_intensity=100, point_radius=2)\n",
    "# Add the heatmap layer.\n",
    "fig.add_layer(heat_layer)\n",
    "# Call the figure to plot the data.\n",
    "fig"
   ]
  },
  {
   "cell_type": "code",
   "execution_count": 43,
   "metadata": {},
   "outputs": [
    {
     "data": {
      "application/vnd.jupyter.widget-view+json": {
       "model_id": "ae46e78082bc4ff1ad148bd05cf053f8",
       "version_major": 2,
       "version_minor": 0
      },
      "text/plain": [
       "Figure(layout=FigureLayout(height='420px'))"
      ]
     },
     "metadata": {},
     "output_type": "display_data"
    }
   ],
   "source": [
    "# Heatmap of wind speed\n",
    "locations = city_data_df[[\"Lat\", \"Lng\"]]\n",
    "# Get the wind speed.\n",
    "wind = city_data_df[\"Wind Speed\"]\n",
    "# Assign the figure variable.\n",
    "fig = gmaps.figure(center=(30.0, 31.0), zoom_level=1.5)\n",
    "# Assign the heatmap variable.\n",
    "heat_layer = gmaps.heatmap_layer(locations, weights=wind, dissipating=False, \n",
    "                                max_intensity=100, point_radius=2)\n",
    "# Add the heatmap layer.\n",
    "fig.add_layer(heat_layer)\n",
    "# Call the figure to plot the data.\n",
    "fig"
   ]
  },
  {
   "cell_type": "code",
   "execution_count": 44,
   "metadata": {},
   "outputs": [
    {
     "name": "stdout",
     "output_type": "stream",
     "text": [
      "What is the minimum temperature you would like for your trip? 75\n",
      "What is the maximum temperature you would like for your trip? 90\n"
     ]
    }
   ],
   "source": [
    "# Ask the customer to add a minimum and maximum temperature value.\n",
    "min_temp = float(input(\"What is the minimum temperature you would like for your trip? \"))\n",
    "max_temp = float(input(\"What is the maximum temperature you would like for your trip? \"))"
   ]
  },
  {
   "cell_type": "code",
   "execution_count": 46,
   "metadata": {},
   "outputs": [
    {
     "data": {
      "text/html": [
       "<div>\n",
       "<style scoped>\n",
       "    .dataframe tbody tr th:only-of-type {\n",
       "        vertical-align: middle;\n",
       "    }\n",
       "\n",
       "    .dataframe tbody tr th {\n",
       "        vertical-align: top;\n",
       "    }\n",
       "\n",
       "    .dataframe thead th {\n",
       "        text-align: right;\n",
       "    }\n",
       "</style>\n",
       "<table border=\"1\" class=\"dataframe\">\n",
       "  <thead>\n",
       "    <tr style=\"text-align: right;\">\n",
       "      <th></th>\n",
       "      <th>City_ID</th>\n",
       "      <th>City</th>\n",
       "      <th>Country</th>\n",
       "      <th>Date</th>\n",
       "      <th>Lat</th>\n",
       "      <th>Lng</th>\n",
       "      <th>Max Temp</th>\n",
       "      <th>Humidity</th>\n",
       "      <th>Cloudiness</th>\n",
       "      <th>Wind Speed</th>\n",
       "    </tr>\n",
       "  </thead>\n",
       "  <tbody>\n",
       "    <tr>\n",
       "      <th>0</th>\n",
       "      <td>0</td>\n",
       "      <td>Georgetown</td>\n",
       "      <td>MY</td>\n",
       "      <td>2020-08-30 20:28:51</td>\n",
       "      <td>5.41</td>\n",
       "      <td>100.34</td>\n",
       "      <td>80.60</td>\n",
       "      <td>94</td>\n",
       "      <td>40</td>\n",
       "      <td>2.24</td>\n",
       "    </tr>\n",
       "    <tr>\n",
       "      <th>1</th>\n",
       "      <td>1</td>\n",
       "      <td>Faanui</td>\n",
       "      <td>PF</td>\n",
       "      <td>2020-08-30 20:30:08</td>\n",
       "      <td>-16.48</td>\n",
       "      <td>-151.75</td>\n",
       "      <td>76.86</td>\n",
       "      <td>76</td>\n",
       "      <td>18</td>\n",
       "      <td>22.46</td>\n",
       "    </tr>\n",
       "    <tr>\n",
       "      <th>3</th>\n",
       "      <td>3</td>\n",
       "      <td>Canas</td>\n",
       "      <td>CR</td>\n",
       "      <td>2020-08-30 20:30:08</td>\n",
       "      <td>10.43</td>\n",
       "      <td>-85.09</td>\n",
       "      <td>86.00</td>\n",
       "      <td>79</td>\n",
       "      <td>40</td>\n",
       "      <td>9.17</td>\n",
       "    </tr>\n",
       "    <tr>\n",
       "      <th>5</th>\n",
       "      <td>5</td>\n",
       "      <td>Kapaa</td>\n",
       "      <td>US</td>\n",
       "      <td>2020-08-30 20:30:09</td>\n",
       "      <td>22.08</td>\n",
       "      <td>-159.32</td>\n",
       "      <td>82.99</td>\n",
       "      <td>69</td>\n",
       "      <td>40</td>\n",
       "      <td>16.11</td>\n",
       "    </tr>\n",
       "    <tr>\n",
       "      <th>7</th>\n",
       "      <td>7</td>\n",
       "      <td>Wenatchee</td>\n",
       "      <td>US</td>\n",
       "      <td>2020-08-30 20:30:09</td>\n",
       "      <td>47.42</td>\n",
       "      <td>-120.31</td>\n",
       "      <td>78.01</td>\n",
       "      <td>20</td>\n",
       "      <td>1</td>\n",
       "      <td>3.36</td>\n",
       "    </tr>\n",
       "  </tbody>\n",
       "</table>\n",
       "</div>"
      ],
      "text/plain": [
       "   City_ID        City Country                 Date    Lat     Lng  Max Temp  \\\n",
       "0        0  Georgetown      MY  2020-08-30 20:28:51   5.41  100.34     80.60   \n",
       "1        1      Faanui      PF  2020-08-30 20:30:08 -16.48 -151.75     76.86   \n",
       "3        3       Canas      CR  2020-08-30 20:30:08  10.43  -85.09     86.00   \n",
       "5        5       Kapaa      US  2020-08-30 20:30:09  22.08 -159.32     82.99   \n",
       "7        7   Wenatchee      US  2020-08-30 20:30:09  47.42 -120.31     78.01   \n",
       "\n",
       "   Humidity  Cloudiness  Wind Speed  \n",
       "0        94          40        2.24  \n",
       "1        76          18       22.46  \n",
       "3        79          40        9.17  \n",
       "5        69          40       16.11  \n",
       "7        20           1        3.36  "
      ]
     },
     "execution_count": 46,
     "metadata": {},
     "output_type": "execute_result"
    }
   ],
   "source": [
    "# Filter the city_data_df\n",
    "preferred_cities_df = city_data_df.loc[(city_data_df[\"Max Temp\"] <= max_temp) & \n",
    "                                         (city_data_df[\"Max Temp\"] >= min_temp)]\n",
    "preferred_cities_df.head()"
   ]
  },
  {
   "cell_type": "code",
   "execution_count": 62,
   "metadata": {},
   "outputs": [
    {
     "data": {
      "text/plain": [
       "City_ID       399\n",
       "City          399\n",
       "Country       399\n",
       "Date          399\n",
       "Lat           399\n",
       "Lng           399\n",
       "Max Temp      399\n",
       "Humidity      399\n",
       "Cloudiness    399\n",
       "Wind Speed    399\n",
       "dtype: int64"
      ]
     },
     "execution_count": 62,
     "metadata": {},
     "output_type": "execute_result"
    }
   ],
   "source": [
    "preferred_cities_df.count()"
   ]
  },
  {
   "cell_type": "code",
   "execution_count": 64,
   "metadata": {},
   "outputs": [
    {
     "name": "stderr",
     "output_type": "stream",
     "text": [
      "/Users/Cedoula/opt/anaconda3/envs/PythonData/lib/python3.7/site-packages/ipykernel_launcher.py:3: SettingWithCopyWarning: \n",
      "A value is trying to be set on a copy of a slice from a DataFrame.\n",
      "Try using .loc[row_indexer,col_indexer] = value instead\n",
      "\n",
      "See the caveats in the documentation: https://pandas.pydata.org/pandas-docs/stable/user_guide/indexing.html#returning-a-view-versus-a-copy\n",
      "  This is separate from the ipykernel package so we can avoid doing imports until\n"
     ]
    },
    {
     "data": {
      "text/html": [
       "<div>\n",
       "<style scoped>\n",
       "    .dataframe tbody tr th:only-of-type {\n",
       "        vertical-align: middle;\n",
       "    }\n",
       "\n",
       "    .dataframe tbody tr th {\n",
       "        vertical-align: top;\n",
       "    }\n",
       "\n",
       "    .dataframe thead th {\n",
       "        text-align: right;\n",
       "    }\n",
       "</style>\n",
       "<table border=\"1\" class=\"dataframe\">\n",
       "  <thead>\n",
       "    <tr style=\"text-align: right;\">\n",
       "      <th></th>\n",
       "      <th>City</th>\n",
       "      <th>Country</th>\n",
       "      <th>Max Temp</th>\n",
       "      <th>Lat</th>\n",
       "      <th>Lng</th>\n",
       "      <th>Hotel Name</th>\n",
       "    </tr>\n",
       "  </thead>\n",
       "  <tbody>\n",
       "    <tr>\n",
       "      <th>0</th>\n",
       "      <td>Georgetown</td>\n",
       "      <td>MY</td>\n",
       "      <td>80.60</td>\n",
       "      <td>5.41</td>\n",
       "      <td>100.34</td>\n",
       "      <td></td>\n",
       "    </tr>\n",
       "    <tr>\n",
       "      <th>1</th>\n",
       "      <td>Faanui</td>\n",
       "      <td>PF</td>\n",
       "      <td>76.86</td>\n",
       "      <td>-16.48</td>\n",
       "      <td>-151.75</td>\n",
       "      <td></td>\n",
       "    </tr>\n",
       "    <tr>\n",
       "      <th>3</th>\n",
       "      <td>Canas</td>\n",
       "      <td>CR</td>\n",
       "      <td>86.00</td>\n",
       "      <td>10.43</td>\n",
       "      <td>-85.09</td>\n",
       "      <td></td>\n",
       "    </tr>\n",
       "    <tr>\n",
       "      <th>5</th>\n",
       "      <td>Kapaa</td>\n",
       "      <td>US</td>\n",
       "      <td>82.99</td>\n",
       "      <td>22.08</td>\n",
       "      <td>-159.32</td>\n",
       "      <td></td>\n",
       "    </tr>\n",
       "    <tr>\n",
       "      <th>7</th>\n",
       "      <td>Wenatchee</td>\n",
       "      <td>US</td>\n",
       "      <td>78.01</td>\n",
       "      <td>47.42</td>\n",
       "      <td>-120.31</td>\n",
       "      <td></td>\n",
       "    </tr>\n",
       "  </tbody>\n",
       "</table>\n",
       "</div>"
      ],
      "text/plain": [
       "         City Country  Max Temp    Lat     Lng Hotel Name\n",
       "0  Georgetown      MY     80.60   5.41  100.34           \n",
       "1      Faanui      PF     76.86 -16.48 -151.75           \n",
       "3       Canas      CR     86.00  10.43  -85.09           \n",
       "5       Kapaa      US     82.99  22.08 -159.32           \n",
       "7   Wenatchee      US     78.01  47.42 -120.31           "
      ]
     },
     "execution_count": 64,
     "metadata": {},
     "output_type": "execute_result"
    }
   ],
   "source": [
    "# Create DataFrame called hotel_df to store hotel names along with city, country, max temp, and coordinates.\n",
    "hotel_df = preferred_cities_df[[\"City\", \"Country\", \"Max Temp\", \"Lat\", \"Lng\"]]\n",
    "hotel_df[\"Hotel Name\"] = \"\"\n",
    "hotel_df.head()"
   ]
  },
  {
   "cell_type": "code",
   "execution_count": null,
   "metadata": {},
   "outputs": [],
   "source": [
    "# Set parameters to search for a hotel.\n",
    "params = {\n",
    "    \"key\": g_key,\n",
    "    \"'type\": \"lodging\",\n",
    "    \"radius\": 5000,\n",
    "    \"location\": (hotel_df)\n",
    "}"
   ]
  }
 ],
 "metadata": {
  "kernelspec": {
   "display_name": "PythonData",
   "language": "python",
   "name": "pythondata"
  },
  "language_info": {
   "codemirror_mode": {
    "name": "ipython",
    "version": 3
   },
   "file_extension": ".py",
   "mimetype": "text/x-python",
   "name": "python",
   "nbconvert_exporter": "python",
   "pygments_lexer": "ipython3",
   "version": "3.7.7"
  }
 },
 "nbformat": 4,
 "nbformat_minor": 4
}
